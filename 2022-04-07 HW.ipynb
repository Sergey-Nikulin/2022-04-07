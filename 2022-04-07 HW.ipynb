{
 "cells": [
  {
   "cell_type": "markdown",
   "id": "de01a09b",
   "metadata": {},
   "source": [
    "### Даны 2 переменных, в которых хранятся строки произвольной длины: phrase_1 и phrase_2.\n",
    "### Напишите код, который проверяет какая из этих строк длиннее.\n",
    "\n",
    "#### Примеры работы программы:\n",
    "\n",
    "- phrase_1 = 'Насколько проще было бы писать программы, если бы не заказчики'\n",
    "- phrase_2 = '640Кб должно хватить для любых задач. Билл Гейтс (по легенде)'\n",
    "##### Результат:\n",
    "##### Фраза 1 длиннее фразы 2"
   ]
  },
  {
   "cell_type": "code",
   "execution_count": 16,
   "id": "3dbf308f",
   "metadata": {},
   "outputs": [
    {
     "name": "stdout",
     "output_type": "stream",
     "text": [
      "Фраза 1 длиннее фразы 2\n"
     ]
    }
   ],
   "source": [
    "phrase_1 = 'Насколько проще было бы писать программы, если бы не заказчики'\n",
    "phrase_2 = '640Кб должно хватить для любых задач. Билл Гейтс (по легенде)'\n",
    "\n",
    "if len(phrase_1) > len(phrase_2):\n",
    "    print(\"Фраза 1 длиннее фразы 2\")\n",
    "else:\n",
    "    None\n",
    "    "
   ]
  },
  {
   "cell_type": "code",
   "execution_count": null,
   "id": "b18e05e7",
   "metadata": {},
   "outputs": [],
   "source": []
  },
  {
   "cell_type": "code",
   "execution_count": 19,
   "id": "bd50abfc",
   "metadata": {},
   "outputs": [],
   "source": [
    "phrase_1 = '640Кб должно хватить для любых задач. Билл Гейтс (по легенде)'\n",
    "phrase_2 = 'Насколько проще было бы писать программы, если бы не заказчики'"
   ]
  },
  {
   "cell_type": "code",
   "execution_count": 21,
   "id": "50f9173c",
   "metadata": {},
   "outputs": [
    {
     "name": "stdout",
     "output_type": "stream",
     "text": [
      "Фраза 1 длиннее фразы 2\n"
     ]
    }
   ],
   "source": [
    "if len(phrase_2) > len(phrase_1):\n",
    "    print(\"Фраза 1 длиннее фразы 2\")\n",
    "else:\n",
    "    None"
   ]
  },
  {
   "cell_type": "code",
   "execution_count": null,
   "id": "9a53e6e2",
   "metadata": {},
   "outputs": [],
   "source": []
  },
  {
   "cell_type": "code",
   "execution_count": null,
   "id": "c6526712",
   "metadata": {},
   "outputs": [],
   "source": [
    "phrase_1 = 'Насколько проще было бы писать программы, если бы не заказчики'\n",
    "phrase_2 = 'Насколько проще было бы писать программы, если бы не заказчики'\n",
    "\n",
    "if len(phrase_2) == len(phrase_1):\n",
    "    print(\"Фразы равной длины\")\n",
    "else:\n",
    "    None"
   ]
  },
  {
   "cell_type": "code",
   "execution_count": null,
   "id": "30ba1b7b",
   "metadata": {},
   "outputs": [],
   "source": []
  },
  {
   "cell_type": "code",
   "execution_count": 1,
   "id": "7ea2f688",
   "metadata": {},
   "outputs": [
    {
     "name": "stdout",
     "output_type": "stream",
     "text": [
      "Введите год:2222\n",
      "Не високосный год \n"
     ]
    }
   ],
   "source": [
    "year = 2020\n",
    "year_input = int(input('Введите год:'))\n",
    "\n",
    "if year_input == year or year_input == year + 4 or year_input == year - 4 :\n",
    "    print(\"Високосный год \")\n",
    "else:\n",
    "    print(\"Не високосный год \")"
   ]
  },
  {
   "cell_type": "code",
   "execution_count": null,
   "id": "8f7399a5",
   "metadata": {},
   "outputs": [],
   "source": []
  },
  {
   "cell_type": "code",
   "execution_count": 12,
   "id": "bef98602",
   "metadata": {},
   "outputs": [
    {
     "name": "stdout",
     "output_type": "stream",
     "text": [
      "Введите число:29\n",
      "Введите месяц:октябрь\n",
      "Ваш знак: Скорпион\n"
     ]
    }
   ],
   "source": [
    "day = int(input('Введите число:'))\n",
    "month = input('Введите месяц:')\n",
    "\n",
    "\n",
    "if month == 'март' and 31 >= day >= 21 or month == 'апрель' and 20 >= day >= 1:\n",
    "    print('Ваш знак: Рыбы')\n",
    "\n",
    "if month == 'апрель' and 30 >= day >= 21 or month == 'май' and 20 >= day >= 1:\n",
    "    print('Ваш знак: Телец')\n",
    "\n",
    "if month == 'май' and 31 >= day >= 22 or month == 'июнь' and 21 >= day >= 1:\n",
    "    print('Ваш знак: Близнецы')\n",
    "\n",
    "if month == 'июнь' and 30 >= day >= 22 or month == 'июль' and 22 >= day >= 1:\n",
    "    print('Ваш знак: Рак')\n",
    "    \n",
    "if month == 'июль' and 31 >= day >= 23 or month == 'август' and 23 >= day >= 1:\n",
    "    print('Ваш знак: Лев')\n",
    "    \n",
    "if month == 'август' and 31 >= day >= 24 or month == 'сентябрь' and 23 >= day >= 1:\n",
    "    print('Ваш знак: Дева')\n",
    "    \n",
    "if month == 'сентябрь' and 30 >= day >= 24 or month == 'октябрь' and 23 >= day >= 1:\n",
    "    print('Ваш знак: Весы')\n",
    "    \n",
    "if month == 'октябрь' and 31 >= day >= 24 or month == 'ноябрь' and 22 >= day >= 1:\n",
    "    print('Ваш знак: Скорпион')\n",
    "    \n",
    "if month == 'ноябрь' and 30 >= day >= 23 or month == 'декабрь' and 21 >= day >= 1:\n",
    "    print('Ваш знак: Стрелец')\n",
    "\n",
    "if month == 'декабрь' and 31 >= day >= 22 or month == 'январь' and 20 >= day >= 1:\n",
    "    print('Ваш знак: Козерог')\n",
    "    \n",
    "if month == 'январь' and 31 >= day >= 21 or month == 'февраль' and 18 >= day >= 1:\n",
    "    print('Ваш знак: Водолей')\n",
    "    \n",
    "if month == 'февраль' and 28 >= day >= 19 or month == 'март' and 20 >= day >= 1:\n",
    "    print('Ваш знак: Водолей')\n"
   ]
  },
  {
   "cell_type": "code",
   "execution_count": 15,
   "id": "9d7e81c5",
   "metadata": {},
   "outputs": [
    {
     "name": "stdout",
     "output_type": "stream",
     "text": [
      "Введите число:01\n",
      "Введите месяц:11\n",
      "Ваш знак: Скорпион\n"
     ]
    }
   ],
   "source": [
    "day = int(input('Введите число:'))\n",
    "month = input('Введите месяц:')\n",
    "\n",
    "\n",
    "if month == '03' and 31 >= day >= 21 or month == '04' and 20 >= day >= 1:\n",
    "    print('Ваш знак: Рыбы')\n",
    "\n",
    "if month == '04' and 30 >= day >= 21 or month == '05' and 20 >= day >= 1:\n",
    "    print('Ваш знак: Телец')\n",
    "\n",
    "if month == '05' and 31 >= day >= 22 or month == '06' and 21 >= day >= 1:\n",
    "    print('Ваш знак: Близнецы')\n",
    "\n",
    "if month == '06' and 30 >= day >= 22 or month == '07' and 22 >= day >= 1:\n",
    "    print('Ваш знак: Рак')\n",
    "    \n",
    "if month == '07' and 31 >= day >= 23 or month == '08' and 23 >= day >= 1:\n",
    "    print('Ваш знак: Лев')\n",
    "    \n",
    "if month == '08' and 31 >= day >= 24 or month == '09' and 23 >= day >= 1:\n",
    "    print('Ваш знак: Дева')\n",
    "    \n",
    "if month == '09' and 30 >= day >= 24 or month == '10' and 23 >= day >= 1:\n",
    "    print('Ваш знак: Весы')\n",
    "    \n",
    "if month == '10' and 31 >= day >= 24 or month == '11' and 22 >= day >= 1:\n",
    "    print('Ваш знак: Скорпион')\n",
    "    \n",
    "if month == '11' and 30 >= day >= 23 or month == '12' and 21 >= day >= 1:\n",
    "    print('Ваш знак: Стрелец')\n",
    "\n",
    "if month == '12' and 31 >= day >= 22 or month == '01' and 20 >= day >= 1:\n",
    "    print('Ваш знак: Козерог')\n",
    "    \n",
    "if month == '01' and 31 >= day >= 21 or month == '02' and 18 >= day >= 1:\n",
    "    print('Ваш знак: Водолей')\n",
    "    \n",
    "if month == '02' and 28 >= day >= 19 or month == '03' and 20 >= day >= 1:\n",
    "    print('Ваш знак: Водолей')\n"
   ]
  },
  {
   "cell_type": "code",
   "execution_count": null,
   "id": "a5470ebb",
   "metadata": {},
   "outputs": [],
   "source": []
  },
  {
   "cell_type": "code",
   "execution_count": null,
   "id": "1392e323",
   "metadata": {},
   "outputs": [],
   "source": [
    "если каждое из трех измерений менее или равно 15 сантиметрам, то выведите на экран \"Коробка №1\";\n",
    "если хотя бы одно из измерений больше 15 сантиметров, но менее 50 сантиметров, то выводите \"Коробка №2\";\n",
    "если длина товара больше 2 метров, то выводите \"Упаковка для лыж\";\n",
    "во всех остальных случаях выводите \"Стандартная коробка №3\"."
   ]
  },
  {
   "cell_type": "code",
   "execution_count": 15,
   "id": "b201a339",
   "metadata": {},
   "outputs": [
    {
     "name": "stdout",
     "output_type": "stream",
     "text": [
      "Введите ширину(см):15\n",
      "Введите длину(см):15\n",
      "Введите высоту(см):15\n",
      "Коробка №1\n"
     ]
    }
   ],
   "source": [
    "width = int(input('Введите ширину(см):'))\n",
    "length = int(input('Введите длину(см):'))\n",
    "height = int(input('Введите высоту(см):'))\n",
    "\n",
    "if width <= 15 and length <= 15 and height <= 15:\n",
    "    print(\"Коробка №1\")\n",
    "elif 15 < width < 50 or 15 < length < 50 or 15 < height < 50 and length <= 2000 :\n",
    "    print(\"Коробка №2\")\n",
    "elif length > 2000:\n",
    "    print(\"Упаковка для лыж\")\n",
    "    \n",
    "else:\n",
    "    print(\"Стандартная коробка №3\")\n",
    "\n"
   ]
  },
  {
   "cell_type": "code",
   "execution_count": null,
   "id": "095e4458",
   "metadata": {},
   "outputs": [],
   "source": []
  },
  {
   "cell_type": "code",
   "execution_count": null,
   "id": "5118cbc0",
   "metadata": {},
   "outputs": [],
   "source": []
  },
  {
   "cell_type": "code",
   "execution_count": null,
   "id": "950d4c48",
   "metadata": {},
   "outputs": [],
   "source": []
  }
 ],
 "metadata": {
  "kernelspec": {
   "display_name": "Python 3 (ipykernel)",
   "language": "python",
   "name": "python3"
  },
  "language_info": {
   "codemirror_mode": {
    "name": "ipython",
    "version": 3
   },
   "file_extension": ".py",
   "mimetype": "text/x-python",
   "name": "python",
   "nbconvert_exporter": "python",
   "pygments_lexer": "ipython3",
   "version": "3.9.7"
  }
 },
 "nbformat": 4,
 "nbformat_minor": 5
}
